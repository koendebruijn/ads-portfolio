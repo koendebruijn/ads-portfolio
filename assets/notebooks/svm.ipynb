{
 "cells": [
  {
   "cell_type": "code",
   "execution_count": null,
   "id": "c730866f",
   "metadata": {},
   "outputs": [],
   "source": [
    "class SVM(BaseModel):\n",
    "    instance=\"SVM\"\n",
    "    \n",
    "    @classmethod\n",
    "    def grid_search(self,model,x_train, x_test, y_train, y_test,scoring):\n",
    "        param_grid = {'C': [10], 'gamma': [0.001],'kernel': ['rbf']}\n",
    "\n",
    "        \n",
    "        start_time = time.perf_counter()\n",
    "        clf = GridSearchCV(model, param_grid, cv=5, scoring=scoring, n_jobs=5) \n",
    "        end_time = time.perf_counter()\n",
    "        \n",
    "        print(f\"Duration Gridsearch: {end_time - start_time:04f}\")\n",
    "        \n",
    "        start_time = time.perf_counter()\n",
    "        clf.fit(x_train, y_train)\n",
    "        end_time = time.perf_counter()\n",
    "        \n",
    "        print(f\"Duration fitting: {end_time - start_time:04f}\")\n",
    "        print()\n",
    "\n",
    "        print(\"Best parameters set found on development set:\")\n",
    "        print(clf.best_params_)\n",
    "        print(clf.best_estimator_)\n",
    "        print()\n",
    "\n",
    "        super().model_accuracy(clf, x_train, x_test, y_train, y_test)\n",
    "    \n",
    "    @classmethod\n",
    "    def train(self, data, scoring=\"precision_weighted\"):\n",
    "        \n",
    "        train = data[\"train\"]\n",
    "        test = data[\"test\"]\n",
    "        \n",
    "\n",
    "        x_train = np.array(train['features'])\n",
    "        y_train = np.array(train['emotions'])\n",
    "        x_test = np.array(test['features'])\n",
    "        y_test = np.array(test['emotions'])\n",
    "\n",
    "        # GridSearch\n",
    "        self.grid_search(SVC(), x_train, x_test, y_train, y_test,scoring)"
   ]
  },
  {
   "cell_type": "code",
   "execution_count": null,
   "id": "ed6ffa6a",
   "metadata": {},
   "outputs": [],
   "source": []
  }
 ],
 "metadata": {
  "kernelspec": {
   "display_name": "Python 3 (ipykernel)",
   "language": "python",
   "name": "python3"
  },
  "language_info": {
   "codemirror_mode": {
    "name": "ipython",
    "version": 3
   },
   "file_extension": ".py",
   "mimetype": "text/x-python",
   "name": "python",
   "nbconvert_exporter": "python",
   "pygments_lexer": "ipython3",
   "version": "3.8.8"
  }
 },
 "nbformat": 4,
 "nbformat_minor": 5
}
