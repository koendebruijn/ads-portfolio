{
 "cells": [
  {
   "cell_type": "code",
   "execution_count": 1,
   "id": "a40a0a43",
   "metadata": {
    "pycharm": {
     "is_executing": true
    }
   },
   "outputs": [
    {
     "ename": "FileNotFoundError",
     "evalue": "[Errno 2] No such file or directory: '../datasets/json/test/ravdess'",
     "output_type": "error",
     "traceback": [
      "\u001b[0;31m---------------------------------------------------------------------------\u001b[0m",
      "\u001b[0;31mFileNotFoundError\u001b[0m                         Traceback (most recent call last)",
      "\u001b[0;32m/tmp/ipykernel_35211/674142994.py\u001b[0m in \u001b[0;36m<module>\u001b[0;34m\u001b[0m\n\u001b[1;32m      3\u001b[0m \u001b[0;32mfrom\u001b[0m \u001b[0msklearn\u001b[0m\u001b[0;34m.\u001b[0m\u001b[0msvm\u001b[0m \u001b[0;32mimport\u001b[0m \u001b[0mSVC\u001b[0m\u001b[0;34m\u001b[0m\u001b[0;34m\u001b[0m\u001b[0m\n\u001b[1;32m      4\u001b[0m \u001b[0;32mfrom\u001b[0m \u001b[0msklearn\u001b[0m\u001b[0;34m.\u001b[0m\u001b[0mmodel_selection\u001b[0m \u001b[0;32mimport\u001b[0m \u001b[0mGridSearchCV\u001b[0m\u001b[0;34m\u001b[0m\u001b[0;34m\u001b[0m\u001b[0m\n\u001b[0;32m----> 5\u001b[0;31m \u001b[0;32mfrom\u001b[0m \u001b[0mipynb\u001b[0m\u001b[0;34m.\u001b[0m\u001b[0mfs\u001b[0m\u001b[0;34m.\u001b[0m\u001b[0mfull\u001b[0m\u001b[0;34m.\u001b[0m\u001b[0mbase_model\u001b[0m \u001b[0;32mimport\u001b[0m \u001b[0mBaseModel\u001b[0m\u001b[0;34m\u001b[0m\u001b[0;34m\u001b[0m\u001b[0m\n\u001b[0m\u001b[1;32m      6\u001b[0m \u001b[0;34m\u001b[0m\u001b[0m\n\u001b[1;32m      7\u001b[0m \u001b[0;32mimport\u001b[0m \u001b[0mjson\u001b[0m\u001b[0;34m\u001b[0m\u001b[0;34m\u001b[0m\u001b[0m\n",
      "\u001b[0;32m/datc/emo/notebooks/source/models/base_model.ipynb\u001b[0m in \u001b[0;36m<module>\u001b[0;34m\u001b[0m\n\u001b[1;32m    106\u001b[0m     \u001b[0;34m\"            fp.write(f\\\"\\\\nPrecision: {precision_score(y_test, y_pred, average=None)}\\\")   \\n\"\u001b[0m\u001b[0;34m,\u001b[0m\u001b[0;34m\u001b[0m\u001b[0;34m\u001b[0m\u001b[0m\n\u001b[1;32m    107\u001b[0m     \u001b[0;34m\"            fp.write(\\\"\\\\nClassification Report:\\\")\\n\"\u001b[0m\u001b[0;34m,\u001b[0m\u001b[0;34m\u001b[0m\u001b[0;34m\u001b[0m\u001b[0m\n\u001b[0;32m--> 108\u001b[0;31m     \u001b[0;34m\"            fp.write(classification_report(y_test, y_pred))\\n\"\u001b[0m\u001b[0;34m,\u001b[0m\u001b[0;34m\u001b[0m\u001b[0;34m\u001b[0m\u001b[0m\n\u001b[0m\u001b[1;32m    109\u001b[0m     \u001b[0;34m\"\\n\"\u001b[0m\u001b[0;34m,\u001b[0m\u001b[0;34m\u001b[0m\u001b[0;34m\u001b[0m\u001b[0m\n\u001b[1;32m    110\u001b[0m     \u001b[0;34m\"            # Confusion matrix\\n\"\u001b[0m\u001b[0;34m,\u001b[0m\u001b[0;34m\u001b[0m\u001b[0;34m\u001b[0m\u001b[0m\n",
      "\u001b[0;32m/datc/emo/notebooks/source/models/base_model.ipynb\u001b[0m in \u001b[0;36mread_dataset\u001b[0;34m(dataset_type, dataset_name, split_sex)\u001b[0m\n\u001b[1;32m     40\u001b[0m     \u001b[0;34m\"                'X': [],\\n\"\u001b[0m\u001b[0;34m,\u001b[0m\u001b[0;34m\u001b[0m\u001b[0;34m\u001b[0m\u001b[0m\n\u001b[1;32m     41\u001b[0m     \u001b[0;34m\"                'y': []\\n\"\u001b[0m\u001b[0;34m,\u001b[0m\u001b[0;34m\u001b[0m\u001b[0;34m\u001b[0m\u001b[0m\n\u001b[0;32m---> 42\u001b[0;31m     \u001b[0;34m\"            },\\n\"\u001b[0m\u001b[0;34m,\u001b[0m\u001b[0;34m\u001b[0m\u001b[0;34m\u001b[0m\u001b[0m\n\u001b[0m\u001b[1;32m     43\u001b[0m     \u001b[0;34m\"            'Augmented': {\\n\"\u001b[0m\u001b[0;34m,\u001b[0m\u001b[0;34m\u001b[0m\u001b[0;34m\u001b[0m\u001b[0m\n\u001b[1;32m     44\u001b[0m     \u001b[0;34m\"                'X': [],\\n\"\u001b[0m\u001b[0;34m,\u001b[0m\u001b[0;34m\u001b[0m\u001b[0;34m\u001b[0m\u001b[0m\n",
      "\u001b[0;31mFileNotFoundError\u001b[0m: [Errno 2] No such file or directory: '../datasets/json/test/ravdess'"
     ]
    }
   ],
   "source": [
    "import sys\n",
    "sys.path.insert(0, '../')\n",
    "from sklearn.svm import SVC\n",
    "from sklearn.model_selection import GridSearchCV\n",
    "from ipynb.fs.full.base_model import BaseModel\n",
    "\n",
    "import json\n",
    "import numpy as np\n",
    "\n",
    "import time\n",
    "from datetime import datetime\n",
    "import pickle\n",
    "import joblib"
   ]
  },
  {
   "cell_type": "code",
   "execution_count": null,
   "id": "c730866f",
   "metadata": {},
   "outputs": [],
   "source": [
    "class SVM(BaseModel):\n",
    "    instance=\"SVM\"\n",
    "    \n",
    "    @classmethod\n",
    "    def grid_search(self,model,x_train, x_test, y_train, y_test,scoring):\n",
    "        #param_grid = {'C': [0.1,1, 10, 100], \n",
    "        #              'gamma': [1,0.1,0.01,0.001],\n",
    "        #              'kernel': ['rbf', 'poly', 'sigmoid']}\n",
    "        param_grid = {'C': [10], 'gamma': [0.001],'kernel': ['rbf']}\n",
    "\n",
    "        \n",
    "        start_time = time.perf_counter()\n",
    "        clf = GridSearchCV(model, param_grid, cv=5, scoring=scoring, n_jobs=5) \n",
    "        end_time = time.perf_counter()\n",
    "        print(f\"Duration Gridsearch: {end_time - start_time:04f}\")\n",
    "        \n",
    "        start_time = time.perf_counter()\n",
    "        clf.fit(x_train, y_train)\n",
    "        end_time = time.perf_counter()\n",
    "        \n",
    "        # SAVING MODEL\n",
    "#         print(\"Saving model\")\n",
    "#         dt = datetime.today().strftime('%Y-%m-%d-%H:%M:%S')\n",
    "#         filename = './pkls/'+dt+'-SVM.pkl'\n",
    "#         print(filename)\n",
    "#         joblib.dump(clf, filename)\n",
    "        \n",
    "        print(f\"Duration fitting: {end_time - start_time:04f}\")\n",
    "        print()\n",
    "\n",
    "        print(\"Best parameters set found on development set:\")\n",
    "        print(clf.best_params_)\n",
    "        print(clf.best_estimator_)\n",
    "        print()\n",
    "\n",
    "        super().model_accuracy(clf, x_train, x_test, y_train, y_test)\n",
    "    \n",
    "    @classmethod\n",
    "    def train(self, data, scoring=\"precision_weighted\"):\n",
    "        \n",
    "        train = data[\"train\"]\n",
    "        test = data[\"test\"]\n",
    "        \n",
    "\n",
    "        x_train = np.array(train['features'])\n",
    "        y_train = np.array(train['emotions'])\n",
    "        x_test = np.array(test['features'])\n",
    "        y_test = np.array(test['emotions'])\n",
    "\n",
    "        #GridSearch\n",
    "        self.grid_search(SVC(), x_train, x_test, y_train, y_test,scoring)"
   ]
  },
  {
   "cell_type": "code",
   "execution_count": null,
   "id": "ed6ffa6a",
   "metadata": {},
   "outputs": [],
   "source": []
  }
 ],
 "metadata": {
  "kernelspec": {
   "display_name": "Python 3 (ipykernel)",
   "language": "python",
   "name": "python3"
  },
  "language_info": {
   "codemirror_mode": {
    "name": "ipython",
    "version": 3
   },
   "file_extension": ".py",
   "mimetype": "text/x-python",
   "name": "python",
   "nbconvert_exporter": "python",
   "pygments_lexer": "ipython3",
   "version": "3.8.8"
  }
 },
 "nbformat": 4,
 "nbformat_minor": 5
}
